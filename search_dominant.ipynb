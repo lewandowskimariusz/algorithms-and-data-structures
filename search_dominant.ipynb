{
  "nbformat": 4,
  "nbformat_minor": 0,
  "metadata": {
    "colab": {
      "name": "search_dominant.ipynb",
      "provenance": [],
      "authorship_tag": "ABX9TyM/dZ29etAyz7OlPZpOyFTe",
      "include_colab_link": true
    },
    "kernelspec": {
      "name": "python3",
      "display_name": "Python 3"
    }
  },
  "cells": [
    {
      "cell_type": "markdown",
      "metadata": {
        "id": "view-in-github",
        "colab_type": "text"
      },
      "source": [
        "<a href=\"https://colab.research.google.com/github/lewandowskimariusz/algorithms-and-data-structures/blob/master/search_dominant.ipynb\" target=\"_parent\"><img src=\"https://colab.research.google.com/assets/colab-badge.svg\" alt=\"Open In Colab\"/></a>"
      ]
    },
    {
      "cell_type": "code",
      "metadata": {
        "id": "Snuex9leTg6p",
        "colab_type": "code",
        "colab": {}
      },
      "source": [
        "def search_dominant(n):\n",
        "  Z = [1] * n \n",
        "  random_z = Z\n",
        "  for i in range(n):\n",
        "    random_z[i] = Z[i] * random.randint(1,19) \n",
        "  max_L, max_W = 0,0\n",
        "  print (random_z)\n",
        "  for i in range ( 0, n):\n",
        "    W = random_z[i]\n",
        "    L = 0\n",
        "    for j in range(0, n-1):\n",
        "      if random_z[j] == W:\n",
        "        L += 1\n",
        " \n",
        "        if L >= max_L:\n",
        "          max_L, max_W = L, W\n",
        "          print(W,L)\n",
        "      else:\n",
        "        continue\n",
        "\n",
        "  return  max_W, max_L,"
      ],
      "execution_count": 82,
      "outputs": []
    },
    {
      "cell_type": "code",
      "metadata": {
        "id": "dEpx-L2AVoxV",
        "colab_type": "code",
        "colab": {
          "base_uri": "https://localhost:8080/",
          "height": 459
        },
        "outputId": "871bf491-4351-4522-e1c4-bf5f6bf317bc"
      },
      "source": [
        "search_dominant(100)"
      ],
      "execution_count": 83,
      "outputs": [
        {
          "output_type": "stream",
          "text": [
            "[5, 14, 16, 11, 16, 3, 18, 15, 10, 9, 15, 7, 12, 16, 1, 13, 7, 4, 18, 17, 19, 16, 15, 10, 3, 3, 19, 1, 14, 10, 19, 19, 16, 6, 6, 16, 1, 7, 11, 14, 18, 1, 17, 12, 13, 10, 18, 10, 1, 5, 8, 2, 2, 4, 3, 12, 17, 1, 16, 8, 15, 15, 10, 7, 7, 19, 12, 14, 7, 19, 1, 12, 3, 3, 8, 7, 6, 9, 4, 19, 3, 13, 12, 13, 14, 7, 2, 16, 10, 2, 9, 16, 18, 8, 8, 16, 17, 11, 6, 2]\n",
            "5 1\n",
            "5 2\n",
            "14 2\n",
            "14 3\n",
            "14 4\n",
            "14 5\n",
            "16 5\n",
            "16 6\n",
            "16 7\n",
            "16 8\n",
            "16 9\n",
            "16 10\n",
            "16 10\n",
            "16 10\n",
            "16 10\n",
            "16 10\n",
            "16 10\n",
            "16 10\n",
            "16 10\n",
            "16 10\n",
            "16 10\n"
          ],
          "name": "stdout"
        },
        {
          "output_type": "execute_result",
          "data": {
            "text/plain": [
              "(16, 10)"
            ]
          },
          "metadata": {
            "tags": []
          },
          "execution_count": 83
        }
      ]
    },
    {
      "cell_type": "code",
      "metadata": {
        "id": "6_8j7-TFi62k",
        "colab_type": "code",
        "colab": {}
      },
      "source": [
        ""
      ],
      "execution_count": null,
      "outputs": []
    }
  ]
}