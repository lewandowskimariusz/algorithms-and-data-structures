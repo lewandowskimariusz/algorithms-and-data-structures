{
  "nbformat": 4,
  "nbformat_minor": 0,
  "metadata": {
    "colab": {
      "name": "list_counter.ipynb",
      "provenance": [],
      "authorship_tag": "ABX9TyMxYKsh3xgLxOdWMV5RIvH7",
      "include_colab_link": true
    },
    "kernelspec": {
      "name": "python3",
      "display_name": "Python 3"
    }
  },
  "cells": [
    {
      "cell_type": "markdown",
      "metadata": {
        "id": "view-in-github",
        "colab_type": "text"
      },
      "source": [
        "<a href=\"https://colab.research.google.com/github/lewandowskimariusz/algorithms-and-data-structures/blob/master/list_counter.ipynb\" target=\"_parent\"><img src=\"https://colab.research.google.com/assets/colab-badge.svg\" alt=\"Open In Colab\"/></a>"
      ]
    },
    {
      "cell_type": "code",
      "metadata": {
        "id": "_gPl4fKDvhLa",
        "colab_type": "code",
        "colab": {}
      },
      "source": [
        "def list_counter(l):\n",
        "  return ([[x, l.count(x)] for x in set(l)])"
      ],
      "execution_count": 20,
      "outputs": []
    },
    {
      "cell_type": "code",
      "metadata": {
        "id": "rlUh4YuZyXhZ",
        "colab_type": "code",
        "colab": {
          "base_uri": "https://localhost:8080/",
          "height": 954
        },
        "outputId": "b4719c61-302a-4e59-ee3c-7825554f1708"
      },
      "source": [
        "Z = \"Do Elsynoru powraca Hamlet. Trafia na pogrzeb Ofelii, która utopiła się w rzece (najprawdopodobniej popełniając samobójstwo); ma miejsce ostra wymiana zdań między Hamletem a Laertesem, który wini go za utratę ojca i siostry. Postanawia wykorzystać to Klaudiusz. Proponuje Laertesowi pojedynek z Hamletem. Laertes wpada na pomysł, by posmarować trucizną klingę swojej broni, a król planuje podać Hamletowi w czasie walki kielich z zatrutym winem. Hamlet, chociaż żałuje swoich ostrych słów wobec Laertesa, przyjmuje wyzwanie. W czasie pojedynku Laertes rani Hamleta, jednak w ferworze walki zatruty floret przechodzi do rąk Hamleta, który także rani swojego przeciwnika. Tymczasem zatrute wino wypija królowa i umiera. Laertes przed śmiercią wyznaje Hamletowi prawdę o zdradzie swojej i Klaudiusza. Hamlet zabija króla. Umierając wyraża prośbę, by nowym władcą Danii został Fortynbras. Tuż po śmierci Hamleta do zamku przybywają: Fortynbras powracający z wojny z Polską i posłowie angielscy z informacją o śmierci Gildensterna i Rozenkranca. Horacy, który w obliczu tragedii także chciał wypić zatrute wino, oznajmia im o ostatniej woli księcia \"\n",
        "list_counter(Z)"
      ],
      "execution_count": 39,
      "outputs": [
        {
          "output_type": "execute_result",
          "data": {
            "text/plain": [
              "[['f', 5],\n",
              " ['L', 6],\n",
              " ['H', 11],\n",
              " ['ł', 9],\n",
              " ['ć', 4],\n",
              " ['y', 33],\n",
              " ['.', 12],\n",
              " ['ó', 9],\n",
              " [')', 1],\n",
              " [';', 1],\n",
              " ['ś', 4],\n",
              " ['W', 1],\n",
              " ['D', 2],\n",
              " ['g', 6],\n",
              " ['ę', 7],\n",
              " ['e', 75],\n",
              " ['E', 1],\n",
              " ['a', 106],\n",
              " ['K', 2],\n",
              " ['R', 1],\n",
              " ['j', 29],\n",
              " ['G', 1],\n",
              " ['w', 44],\n",
              " ['u', 21],\n",
              " ['m', 35],\n",
              " ['T', 3],\n",
              " ['d', 21],\n",
              " ['p', 27],\n",
              " ['s', 38],\n",
              " ['ą', 10],\n",
              " [' ', 164],\n",
              " ['o', 67],\n",
              " ['t', 49],\n",
              " ['c', 32],\n",
              " ['U', 1],\n",
              " ['r', 62],\n",
              " ['O', 1],\n",
              " ['ż', 6],\n",
              " [':', 1],\n",
              " ['ń', 1],\n",
              " ['i', 72],\n",
              " ['(', 1],\n",
              " ['l', 28],\n",
              " ['n', 38],\n",
              " [',', 11],\n",
              " ['z', 38],\n",
              " ['P', 3],\n",
              " ['b', 13],\n",
              " ['F', 2],\n",
              " ['h', 6],\n",
              " ['k', 23]]"
            ]
          },
          "metadata": {
            "tags": []
          },
          "execution_count": 39
        }
      ]
    },
    {
      "cell_type": "code",
      "metadata": {
        "id": "OeDRyAZxyhp7",
        "colab_type": "code",
        "colab": {}
      },
      "source": [
        ""
      ],
      "execution_count": null,
      "outputs": []
    }
  ]
}