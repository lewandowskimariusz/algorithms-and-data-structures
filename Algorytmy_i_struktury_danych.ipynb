{
  "nbformat": 4,
  "nbformat_minor": 0,
  "metadata": {
    "colab": {
      "name": "Algorytmy i struktury danych.ipynb",
      "provenance": [],
      "authorship_tag": "ABX9TyOhLSeoUI/vy4Db8068LgvV",
      "include_colab_link": true
    },
    "kernelspec": {
      "name": "python3",
      "display_name": "Python 3"
    }
  },
  "cells": [
    {
      "cell_type": "markdown",
      "metadata": {
        "id": "view-in-github",
        "colab_type": "text"
      },
      "source": [
        "<a href=\"https://colab.research.google.com/github/lewandowskimariusz/algorithms-and-data-structures/blob/master/Algorytmy_i_struktury_danych.ipynb\" target=\"_parent\"><img src=\"https://colab.research.google.com/assets/colab-badge.svg\" alt=\"Open In Colab\"/></a>"
      ]
    },
    {
      "cell_type": "code",
      "metadata": {
        "id": "z3YWpT3IEtAG",
        "colab_type": "code",
        "colab": {}
      },
      "source": [
        "def nww(a, b):\n",
        "  # the least common multiple of a  and b \n",
        "  # Multiply a x b\n",
        "  ab = a * b \n",
        "  # Iterator of steps\n",
        "  i = 0\n",
        "  # Loop while to calculate the lest common multiple\n",
        "  while b != 0:\n",
        "    #print('Step= ',i)\n",
        "    # Temporary t value is equal b\n",
        "    t = b\n",
        "    #print('t= ',t)\n",
        "    # b is equal value of modulo a and b\n",
        "    b = a % b\n",
        "    print('b= ',b)\n",
        "    # a takes value t, old value of b \n",
        "    a = t\n",
        "    #print('a= ', a)\n",
        "    # Print step\n",
        "    i += 1\n",
        "  print('Steps: ',i)\n",
        "  #print('ab= ', ab)\n",
        "  # The least common value is:\n",
        "  ab = ab / a\n",
        "  #print(ab)\n",
        "  return ab"
      ],
      "execution_count": 0,
      "outputs": []
    },
    {
      "cell_type": "code",
      "metadata": {
        "id": "imlJbs4xF0UE",
        "colab_type": "code",
        "colab": {}
      },
      "source": [
        "#nww_lowest_no = nww(10,103)\n",
        "#print(nww_lowest_no)"
      ],
      "execution_count": 0,
      "outputs": []
    },
    {
      "cell_type": "code",
      "metadata": {
        "id": "gBwFd29WIpQW",
        "colab_type": "code",
        "colab": {}
      },
      "source": [
        "# Declared number of primes, n\n",
        "def first_numbers(n):\n",
        "  #Lp - counter of primes\n",
        "  lp = 0\n",
        "  # Integer to search primes d \n",
        "  d = 0 \n",
        "  # Second integer to serch primes p \n",
        "  p = 2\n",
        "  # Loop \n",
        "  while (lp < n):\n",
        "    flag_t = True\n",
        "    for d in range(2, p):\n",
        "      if p % d == 0:\n",
        "        flag_t = False\n",
        "        break\n",
        "    if flag_t == True:\n",
        "      print('First no is: ', p)\n",
        "      lp += 1\n",
        "    p += 1 \n",
        "  print('Sum of primes is: ',lp)\n",
        "\n"
      ],
      "execution_count": 0,
      "outputs": []
    },
    {
      "cell_type": "code",
      "metadata": {
        "id": "ftlRmceUUdhG",
        "colab_type": "code",
        "colab": {}
      },
      "source": [
        "#first_numbers(100)"
      ],
      "execution_count": 0,
      "outputs": []
    },
    {
      "cell_type": "code",
      "metadata": {
        "id": "Imdi6OFjUfYg",
        "colab_type": "code",
        "colab": {}
      },
      "source": [
        "def sieve(n):\n",
        "    \"\"\"Eratosthenes sieve - prime numbers not greater than n.\"\"\"\n",
        "    L = [0] + n * [1]\n",
        "    for p in range(2,n):\n",
        "      q = p * p\n",
        "      if q > n:\n",
        "        break\n",
        "      if L[p] == 1:\n",
        "        for i in range(q,n+1,p):\n",
        "          L[i] = 0\n",
        "    return [i for i in range (1, n+1) if L[i] == 1]"
      ],
      "execution_count": 0,
      "outputs": []
    },
    {
      "cell_type": "code",
      "metadata": {
        "id": "WTJIxmevdhyK",
        "colab_type": "code",
        "colab": {}
      },
      "source": [
        "#sieve(100)"
      ],
      "execution_count": 0,
      "outputs": []
    },
    {
      "cell_type": "code",
      "metadata": {
        "id": "8L_uhhBEdj3w",
        "colab_type": "code",
        "colab": {}
      },
      "source": [
        "def linear_sieve(n):\n",
        "  # Create empty list\n",
        "  S = []\n",
        "  # Fill list\n",
        "  for i in range (1,n+1):\n",
        "    S.append(i)\n",
        "  print(S)\n",
        "  for p in range(2,n):\n",
        "    #print('p= ',p)\n",
        "    while p * p <= n: \n",
        "      q = p\n",
        "      #print('q= ',q)\n",
        "      z = 0 \n",
        "      while q * p <= n:\n",
        "        #print('z=',z)\n",
        "        x = q * p\n",
        "        #print('X= ',x)\n",
        "        z += 1\n",
        "        i_x = 0\n",
        "        while x <= n:\n",
        "          #i_x += 1\n",
        "          #print('i_x',i_x)\n",
        "\n",
        "          if x in S:\n",
        "            print('remove',x)\n",
        "            S.remove(x)\n",
        "          x = p * x\n",
        "        q += 1 \n",
        "      p += 1\n",
        "    #for i in range(2,n):\n",
        "      #if i in S:\n",
        "        #print(i)\n",
        "    return S\n"
      ],
      "execution_count": 0,
      "outputs": []
    },
    {
      "cell_type": "code",
      "metadata": {
        "id": "ywIvWexksSKH",
        "colab_type": "code",
        "colab": {}
      },
      "source": [
        "#linear_sieve(100)"
      ],
      "execution_count": 0,
      "outputs": []
    }
  ]
}