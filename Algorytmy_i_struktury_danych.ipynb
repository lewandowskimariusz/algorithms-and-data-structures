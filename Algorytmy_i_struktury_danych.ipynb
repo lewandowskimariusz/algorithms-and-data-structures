{
  "nbformat": 4,
  "nbformat_minor": 0,
  "metadata": {
    "colab": {
      "name": "Algorytmy i struktury danych.ipynb",
      "provenance": [],
      "authorship_tag": "ABX9TyMpDLzY9wVGOqgSjthH/2yn",
      "include_colab_link": true
    },
    "kernelspec": {
      "name": "python3",
      "display_name": "Python 3"
    }
  },
  "cells": [
    {
      "cell_type": "markdown",
      "metadata": {
        "id": "view-in-github",
        "colab_type": "text"
      },
      "source": [
        "<a href=\"https://colab.research.google.com/github/lewandowskimariusz/algorithms-and-data-structures/blob/master/Algorytmy_i_struktury_danych.ipynb\" target=\"_parent\"><img src=\"https://colab.research.google.com/assets/colab-badge.svg\" alt=\"Open In Colab\"/></a>"
      ]
    },
    {
      "cell_type": "code",
      "metadata": {
        "id": "z3YWpT3IEtAG",
        "colab_type": "code",
        "colab": {}
      },
      "source": [
        "def nww(a, b):\n",
        "  # the least common multiple of a  and b \n",
        "  # Multiply a x b\n",
        "  ab = a * b \n",
        "  i = 0\n",
        "  while b != 0:\n",
        "    i += 1 \n",
        "    print('Krok= ',i)\n",
        "    t = b\n",
        "    print('t= ',t)\n",
        "    b = a % b\n",
        "    print('b= ',b)\n",
        "    a = t\n",
        "    print('a= ', a)\n",
        "  print('ab= ', ab)\n",
        "  ab = ab / a\n",
        "  print(ab)\n",
        "  return ab\n"
      ],
      "execution_count": 0,
      "outputs": []
    },
    {
      "cell_type": "code",
      "metadata": {
        "id": "imlJbs4xF0UE",
        "colab_type": "code",
        "colab": {}
      },
      "source": [
        "#nww_lowest_no = nww(2,4)"
      ],
      "execution_count": 0,
      "outputs": []
    },
    {
      "cell_type": "code",
      "metadata": {
        "id": "gBwFd29WIpQW",
        "colab_type": "code",
        "colab": {}
      },
      "source": [
        "# Declared number if primes, n\n",
        "def first_numbers(n):\n",
        "  #Lp - counter of primes\n",
        "  lp = 0\n",
        "  # Integer to search primesm d \n",
        "  d = 0 \n",
        "  # Second integer to serch primes p \n",
        "  p = 2\n",
        "  # Loop \n",
        "  while (lp < n):\n",
        "    flag_t = True\n",
        "    for d in range(2, p):\n",
        "      if p % d == 0:\n",
        "        flag_t = False\n",
        "        break\n",
        "    if flag_t == True:\n",
        "      print('First no is: ', p)\n",
        "      lp += 1\n",
        "    p += 1 \n",
        "  print('Sum of primes is: ',lp)\n",
        "\n"
      ],
      "execution_count": 0,
      "outputs": []
    },
    {
      "cell_type": "code",
      "metadata": {
        "id": "ftlRmceUUdhG",
        "colab_type": "code",
        "colab": {}
      },
      "source": [
        "#first_numbers(100)"
      ],
      "execution_count": 0,
      "outputs": []
    },
    {
      "cell_type": "code",
      "metadata": {
        "id": "Imdi6OFjUfYg",
        "colab_type": "code",
        "colab": {}
      },
      "source": [
        "def sieve(n):\n",
        "    \"\"\"Sito Eratostenesa - liczby pierwsze nie większe od n.\"\"\"\n",
        "    L = [0] + n * [1]\n",
        "    for p in range(2,n):\n",
        "      q = p * p\n",
        "      if q > n:\n",
        "        break\n",
        "      if L[p] == 1:\n",
        "        for i in range(q,n+1,p):\n",
        "          L[i] = 0\n",
        "    return [i for i in range (1, n+1) if L[i] == 1]\n",
        "\n",
        "    "
      ],
      "execution_count": 0,
      "outputs": []
    },
    {
      "cell_type": "code",
      "metadata": {
        "id": "WTJIxmevdhyK",
        "colab_type": "code",
        "colab": {}
      },
      "source": [
        "#sieve(100)\n"
      ],
      "execution_count": 0,
      "outputs": []
    },
    {
      "cell_type": "code",
      "metadata": {
        "id": "8L_uhhBEdj3w",
        "colab_type": "code",
        "colab": {}
      },
      "source": [
        "def linear_sieve(n):\n",
        "  S = []\n",
        "  for i in range (1,n+1):\n",
        "    S.append(i)\n",
        "  print(S)\n",
        "  for p in range(2,n):\n",
        "    #print('p= ',p)\n",
        "    while p * p <= n: \n",
        "      q = p\n",
        "      #print('q= ',q)\n",
        "      z = 0 \n",
        "      while q * p <= n:\n",
        "        #print('z=',z)\n",
        "        x = q * p\n",
        "        #print('X= ',x)\n",
        "        z += 1\n",
        "        i_x = 0\n",
        "        while x <= n:\n",
        "          #i_x += 1\n",
        "          #print('i_x',i_x)\n",
        "\n",
        "          if x in S:\n",
        "            print('remove',x)\n",
        "            S.remove(x)\n",
        "          x = p * x\n",
        "        q += 1 \n",
        "      p += 1\n",
        "    #for i in range(2,n):\n",
        "      #if i in S:\n",
        "        #print(i)\n",
        "    return S\n"
      ],
      "execution_count": 0,
      "outputs": []
    },
    {
      "cell_type": "code",
      "metadata": {
        "id": "ywIvWexksSKH",
        "colab_type": "code",
        "outputId": "8ea9c951-d28a-4fb7-e7c0-adcdd8924629",
        "colab": {
          "base_uri": "https://localhost:8080/",
          "height": 1000
        }
      },
      "source": [
        "linear_sieve(100)"
      ],
      "execution_count": 2,
      "outputs": [
        {
          "output_type": "stream",
          "text": [
            "[1, 2, 3, 4, 5, 6, 7, 8, 9, 10, 11, 12, 13, 14, 15, 16, 17, 18, 19, 20, 21, 22, 23, 24, 25, 26, 27, 28, 29, 30, 31, 32, 33, 34, 35, 36, 37, 38, 39, 40, 41, 42, 43, 44, 45, 46, 47, 48, 49, 50, 51, 52, 53, 54, 55, 56, 57, 58, 59, 60, 61, 62, 63, 64, 65, 66, 67, 68, 69, 70, 71, 72, 73, 74, 75, 76, 77, 78, 79, 80, 81, 82, 83, 84, 85, 86, 87, 88, 89, 90, 91, 92, 93, 94, 95, 96, 97, 98, 99, 100]\n",
            "remove 4\n",
            "remove 8\n",
            "remove 16\n",
            "remove 32\n",
            "remove 64\n",
            "remove 6\n",
            "remove 12\n",
            "remove 24\n",
            "remove 48\n",
            "remove 96\n",
            "remove 10\n",
            "remove 20\n",
            "remove 40\n",
            "remove 80\n",
            "remove 14\n",
            "remove 28\n",
            "remove 56\n",
            "remove 18\n",
            "remove 36\n",
            "remove 72\n",
            "remove 22\n",
            "remove 44\n",
            "remove 88\n",
            "remove 26\n",
            "remove 52\n",
            "remove 30\n",
            "remove 60\n",
            "remove 34\n",
            "remove 68\n",
            "remove 38\n",
            "remove 76\n",
            "remove 42\n",
            "remove 84\n",
            "remove 46\n",
            "remove 92\n",
            "remove 50\n",
            "remove 100\n",
            "remove 54\n",
            "remove 58\n",
            "remove 62\n",
            "remove 66\n",
            "remove 70\n",
            "remove 74\n",
            "remove 78\n",
            "remove 82\n",
            "remove 86\n",
            "remove 90\n",
            "remove 94\n",
            "remove 98\n",
            "remove 9\n",
            "remove 27\n",
            "remove 81\n",
            "remove 15\n",
            "remove 45\n",
            "remove 21\n",
            "remove 63\n",
            "remove 33\n",
            "remove 99\n",
            "remove 39\n",
            "remove 51\n",
            "remove 57\n",
            "remove 69\n",
            "remove 75\n",
            "remove 87\n",
            "remove 93\n",
            "remove 25\n",
            "remove 35\n",
            "remove 55\n",
            "remove 65\n",
            "remove 85\n",
            "remove 95\n",
            "remove 49\n",
            "remove 77\n",
            "remove 91\n"
          ],
          "name": "stdout"
        },
        {
          "output_type": "execute_result",
          "data": {
            "text/plain": [
              "[1,\n",
              " 2,\n",
              " 3,\n",
              " 5,\n",
              " 7,\n",
              " 11,\n",
              " 13,\n",
              " 17,\n",
              " 19,\n",
              " 23,\n",
              " 29,\n",
              " 31,\n",
              " 37,\n",
              " 41,\n",
              " 43,\n",
              " 47,\n",
              " 53,\n",
              " 59,\n",
              " 61,\n",
              " 67,\n",
              " 71,\n",
              " 73,\n",
              " 79,\n",
              " 83,\n",
              " 89,\n",
              " 97]"
            ]
          },
          "metadata": {
            "tags": []
          },
          "execution_count": 2
        }
      ]
    },
    {
      "cell_type": "code",
      "metadata": {
        "id": "JEKZYYAAyYB8",
        "colab_type": "code",
        "colab": {}
      },
      "source": [
        ""
      ],
      "execution_count": 0,
      "outputs": []
    }
  ]
}