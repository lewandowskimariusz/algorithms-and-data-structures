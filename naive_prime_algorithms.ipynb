{
  "nbformat": 4,
  "nbformat_minor": 0,
  "metadata": {
    "colab": {
      "name": "naive_prime_algorithms",
      "provenance": [],
      "authorship_tag": "ABX9TyMRWBYGgqke1g67DlOn0F96",
      "include_colab_link": true
    },
    "kernelspec": {
      "name": "python3",
      "display_name": "Python 3"
    }
  },
  "cells": [
    {
      "cell_type": "markdown",
      "metadata": {
        "id": "view-in-github",
        "colab_type": "text"
      },
      "source": [
        "<a href=\"https://colab.research.google.com/github/lewandowskimariusz/algorithms-and-data-structures/blob/master/naive_prime_algorithms.ipynb\" target=\"_parent\"><img src=\"https://colab.research.google.com/assets/colab-badge.svg\" alt=\"Open In Colab\"/></a>"
      ]
    },
    {
      "cell_type": "code",
      "metadata": {
        "id": "PvCDnZtk4Ev8",
        "colab_type": "code",
        "colab": {}
      },
      "source": [
        "#A number is prime if it has no divisors other than 1 and itself. \n",
        "#The first solution to the test for primacy is a trial division of the number p by numbers between 2 and [√p].\n",
        "#The reason for doing so is simple - if the number has a factor greater than the element zp,\n",
        "#then the second factor must be smaller than the square root to the product was equal to p. \n",
        "#In the final case, the product of the two numbers collected from dawp would give a number greater than p.\n",
        "#So just examine the divided p by a number in the range [2, [√p]] to exclude the number of complex.\n",
        "def naive_prime(p):\n",
        "  g = int(p ** 0.5)\n",
        "  for i in range(2,g):\n",
        "    if p % i == 0: \n",
        "      print('P is not prime no')\n",
        "      break\n",
        "    else:\n",
        "      continue\n",
        "\n"
      ],
      "execution_count": 47,
      "outputs": []
    },
    {
      "cell_type": "code",
      "metadata": {
        "id": "2Li8HV5A4-yY",
        "colab_type": "code",
        "colab": {
          "base_uri": "https://localhost:8080/",
          "height": 54
        },
        "outputId": "12939396-2654-4ebd-f4b0-765a386053f2"
      },
      "source": [
        "p = int(input(\"P: \"))\n",
        "naive_prime(p)\n"
      ],
      "execution_count": 53,
      "outputs": [
        {
          "output_type": "stream",
          "text": [
            "P: 10\n",
            "P is not prime no\n"
          ],
          "name": "stdout"
        }
      ]
    },
    {
      "cell_type": "code",
      "metadata": {
        "id": "UsvHrv1m5B2Q",
        "colab_type": "code",
        "colab": {}
      },
      "source": [
        ""
      ],
      "execution_count": null,
      "outputs": []
    }
  ]
}